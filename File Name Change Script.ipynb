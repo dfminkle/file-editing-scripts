{
 "cells": [
  {
   "cell_type": "markdown",
   "id": "c5ea6f11",
   "metadata": {},
   "source": [
    "# Import Libraries and Set WD"
   ]
  },
  {
   "cell_type": "code",
   "execution_count": null,
   "id": "13c0b633",
   "metadata": {},
   "outputs": [],
   "source": [
    "import os\n",
    "import re"
   ]
  },
  {
   "cell_type": "code",
   "execution_count": null,
   "id": "3cb624b4",
   "metadata": {
    "scrolled": true
   },
   "outputs": [],
   "source": [
    "os.chdir(r\"C:\\Users\\\")\n",
    "print(f\"Current folder is \\n {os.getcwd()} \\n and the files contained are \\n {os.listdir()}\")"
   ]
  },
  {
   "cell_type": "markdown",
   "id": "6362111e",
   "metadata": {},
   "source": [
    "# Program #1: Alter Names of files in folder"
   ]
  },
  {
   "cell_type": "code",
   "execution_count": null,
   "id": "a31e8923",
   "metadata": {},
   "outputs": [],
   "source": [
    "file_names = os.listdir()\n",
    "dir_name = os.getcwd()\n",
    "\n",
    "for name in file_names:\n",
    "    full_path = dir_name + \"\\\\\" + name\n",
    "    new_name = \"Insert_Text_Here\" + name[-4:]\n",
    "    os.rename(full_path, new_name)"
   ]
  },
  {
   "cell_type": "markdown",
   "id": "4484e91a",
   "metadata": {},
   "source": [
    "# Progam #2: Remove Special Characters"
   ]
  },
  {
   "cell_type": "code",
   "execution_count": null,
   "id": "e6f2f8a8",
   "metadata": {},
   "outputs": [],
   "source": [
    "file_names = os.listdir()\n",
    "dir_name = os.getcwd()\n",
    "special_chars = re.compile(r'[^a-zA-Z0-9 _.-]+')\n",
    "non_special_chars = '._-/'\n",
    "\n",
    "for name in file_names:\n",
    "    full_path = dir_name + \"\\\\\" + name\n",
    "    new_name = re.sub(special_chars,'',name)\n",
    "    os.rename(full_path, new_name)"
   ]
  },
  {
   "cell_type": "markdown",
   "id": "7a34addc",
   "metadata": {},
   "source": [
    "# Program #3: Multiple Replace of File Names"
   ]
  },
  {
   "cell_type": "markdown",
   "id": "fbfb3ad0",
   "metadata": {},
   "source": [
    "## Define replace function and test use cases"
   ]
  },
  {
   "cell_type": "code",
   "execution_count": null,
   "id": "d418476a",
   "metadata": {},
   "outputs": [],
   "source": [
    "def multiple_replace(replace_dict, text):\n",
    "  # Create a regular expression  from the dictionary keys\n",
    "  regex = re.compile(\"(%s)\" % \"|\".join(map(re.escape, replace_dict.keys())), re.IGNORECASE)\n",
    "  # For each match, look-up corresponding value in dictionary\n",
    "  return regex.sub(lambda x: replace_dict[x.string[x.start():x.end()].lower()], text, re.IGNORECASE)"
   ]
  },
  {
   "cell_type": "code",
   "execution_count": null,
   "id": "a853a787",
   "metadata": {},
   "outputs": [],
   "source": [
    "# Test Case\n",
    "replace_dict = {\" - test case - \" : \"_\", \"_test case_\" : \"_\"}\n",
    "\n",
    "text = \"Application - TESt Case - CODE-000000\"\n",
    "text2 = \"Application_Test Case_CODE-000000\"\n",
    "\n",
    "multiple_replace(replace_dict, text)"
   ]
  },
  {
   "cell_type": "markdown",
   "id": "da228498",
   "metadata": {},
   "source": [
    "## Program #3"
   ]
  },
  {
   "cell_type": "code",
   "execution_count": null,
   "id": "904c294e",
   "metadata": {},
   "outputs": [],
   "source": [
    "file_names = os.listdir()\n",
    "dir_name = os.getcwd()\n",
    "\n",
    "replace_dict = {\" - test case - \" : \"_\", \"_test case_\" : \"_\", \" test case_\": \"_\"}\n",
    "\n",
    "for name in file_names:\n",
    "    full_path = dir_name + \"\\\\\" + name\n",
    "    new_name = multiple_replace(replace_dict, name)\n",
    "    print(name)\n",
    "    os.rename(full_path, new_name)"
   ]
  },
  {
   "cell_type": "code",
   "execution_count": null,
   "id": "716e7969",
   "metadata": {},
   "outputs": [],
   "source": [
    "regex.sub()"
   ]
  }
 ],
 "metadata": {
  "kernelspec": {
   "display_name": "Python 3 (ipykernel)",
   "language": "python",
   "name": "python3"
  },
  "language_info": {
   "codemirror_mode": {
    "name": "ipython",
    "version": 3
   },
   "file_extension": ".py",
   "mimetype": "text/x-python",
   "name": "python",
   "nbconvert_exporter": "python",
   "pygments_lexer": "ipython3",
   "version": "3.9.13"
  },
  "toc": {
   "base_numbering": 1,
   "nav_menu": {},
   "number_sections": true,
   "sideBar": true,
   "skip_h1_title": false,
   "title_cell": "Table of Contents",
   "title_sidebar": "Contents",
   "toc_cell": false,
   "toc_position": {},
   "toc_section_display": true,
   "toc_window_display": false
  }
 },
 "nbformat": 4,
 "nbformat_minor": 5
}
