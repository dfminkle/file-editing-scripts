{
 "cells": [
  {
   "cell_type": "markdown",
   "id": "3607733a",
   "metadata": {
    "heading_collapsed": true
   },
   "source": [
    "# Import Libraries"
   ]
  },
  {
   "cell_type": "code",
   "execution_count": null,
   "id": "c114fce0",
   "metadata": {
    "hidden": true
   },
   "outputs": [],
   "source": [
    "import pandas as pd\n",
    "import os\n",
    "import os.path\n",
    "from zipfile import ZipFile\n",
    "import string\n",
    "import pandas as pd"
   ]
  },
  {
   "cell_type": "markdown",
   "id": "3e4af3db",
   "metadata": {
    "heading_collapsed": true
   },
   "source": [
    "# Establish wd and test concepts"
   ]
  },
  {
   "cell_type": "code",
   "execution_count": null,
   "id": "232f1fb6",
   "metadata": {
    "hidden": true
   },
   "outputs": [],
   "source": [
    "os.getcwd() #Correct folder\n",
    "#os.path.isdir(os.listdir()[1])"
   ]
  },
  {
   "cell_type": "code",
   "execution_count": null,
   "id": "78ff36bb",
   "metadata": {
    "hidden": true
   },
   "outputs": [],
   "source": [
    "#Walk through all folders and subfolders to populate a list, then unpack the nested list\n",
    "for item in os.listdir():\n",
    "    if os.path.isdir(item):\n",
    "        nested_file_list = [sublist[2] for sublist in os.walk(item)]\n",
    "        flattened_file_list = [x for sublist in nested_file_list for x in sublist]"
   ]
  },
  {
   "cell_type": "markdown",
   "id": "c81b6bc8",
   "metadata": {
    "heading_collapsed": true
   },
   "source": [
    "# Program v1 : Identifies length issue and bad zip file"
   ]
  },
  {
   "cell_type": "code",
   "execution_count": null,
   "id": "406326c4",
   "metadata": {
    "hidden": true
   },
   "outputs": [],
   "source": [
    "#Initiate Empty Dictionary\n",
    "problem_files = {}\n",
    "#Try a for loop to join the two lists \n",
    "for item in os.listdir():\n",
    "    if os.path.isdir(item):\n",
    "        root_list = [sublist[0] for sublist in os.walk(item)]\n",
    "        fname_list = [sublist[2] for sublist in os.walk(item)]\n",
    "        for i in range(0, len(root_list)): #Loop through all root and subroot folders\n",
    "            if len(fname_list[i]) > 0: #Check if there are files in the folder\n",
    "                for k in range(0, len(fname_list[i])): #Loop through the files contained in the subfolder\n",
    "                    full_path = root_list[i]+ \"\\\\\" + fname_list[i][k] #Concatenate root and file name\n",
    "                    if full_path[-3:] == 'zip':\n",
    "                        try: \n",
    "                            zip_file_names = ZipFile(full_path, mode = 'r').namelist() #List of underlying zip folders\n",
    "                        except:\n",
    "                            problem_files[root_list[0]] = 'Bad Zip File'\n",
    "                        else:    \n",
    "                            for j in range(0, len(zip_file_names)): #Loop through underlying zip folders \n",
    "                                full_path = root_list[i]+ \"\\\\\" + fname_list[i][k]+ \"\\\\\" + zip_file_names[j]\n",
    "                         \n",
    "                    if ((len(full_path + os.getcwd())-96)  > 240) and (root_list[0] not in problem_files) :\n",
    "                        problem_files[root_list[0]] = f'Name too long {len(full_path+os.getcwd())} '\n",
    "                    \n",
    "                \n",
    "    "
   ]
  },
  {
   "cell_type": "code",
   "execution_count": null,
   "id": "9b419430",
   "metadata": {
    "hidden": true,
    "scrolled": true
   },
   "outputs": [],
   "source": [
    "problem_files"
   ]
  },
  {
   "cell_type": "markdown",
   "id": "d481dab6",
   "metadata": {
    "heading_collapsed": true
   },
   "source": [
    "# Program v2: Identifies which files are problematic and checks for special characters"
   ]
  },
  {
   "cell_type": "code",
   "execution_count": null,
   "id": "37cd5a8e",
   "metadata": {
    "hidden": true
   },
   "outputs": [],
   "source": [
    "#Initiate Empty Dictionary\n",
    "problem_files = {}\n",
    "\n",
    "#File length reduction factor to account for moving files to other directories\n",
    "length_reduct = 90\n",
    "\n",
    "#Define special characters \n",
    "special_chars = '!\"#$%&\\'()*+,:;<=>?@[\\\\]^`{|}~'\n",
    "non_special_chars = '._-/'\n",
    "\n",
    "#Main Program \n",
    "for item in os.listdir():\n",
    "    if os.path.isdir(item):\n",
    "        root_list = [sublist[0] for sublist in os.walk(item)]\n",
    "        fname_list = [sublist[2] for sublist in os.walk(item)]\n",
    "        len_issue_list = [] \n",
    "        char_issue_list = []\n",
    "        other_issue_list = []\n",
    "        issue_dict = {'len_issues':'', 'char_issues':'', 'other_issues':''}\n",
    "        \n",
    "        for i in range(0, len(root_list)): #Loop through all root and subroot folders\n",
    "            if len(fname_list[i]) > 0: #Check if there are files in the folder\n",
    "                for k in range(0, len(fname_list[i])): #Loop through the files contained in the subfolder\n",
    "                    full_path = root_list[i]+ \"\\\\\" + fname_list[i][k] #Concatenate root and file name\n",
    "                    if full_path[-3:] == 'zip':\n",
    "                        try: \n",
    "                            zip_file_names = ZipFile(full_path, mode = 'r').namelist() #List of underlying zip folders\n",
    "                        except:\n",
    "                            other_issue_list.append(f'Bad Zip File{fname_list[i]}') #Appends bad zip issue to list\n",
    "                        else:    \n",
    "                            for j in range(0, len(zip_file_names)): #Loop through underlying zip folders \n",
    "                                full_path = root_list[i]+ \"\\\\\" + fname_list[i][k]+ \"\\\\\" + zip_file_names[j] #Spell out full path  \n",
    "                                if any(char in special_chars for char in zip_file_names[j]): #Check for special chars in zip file names\n",
    "                                    char_issue_list.append(f'Special Character in zip file_name = {zip_file_names[j]}')\n",
    "                    #Check length issue\n",
    "                    if ((len(full_path + os.getcwd())-length_reduct)  > 240): #Check path length against zip constraint\n",
    "                        len_issue_list.append(f'Name too long {len(full_path+os.getcwd())} file_name = {fname_list[i][k]}') #Append length issue to list     \n",
    "                    #Check for special characters \n",
    "                    if any(char in special_chars for char in fname_list[i][k]): #Check for special chars in zip file names\n",
    "                                    char_issue_list.append(f'Special Character in file_name = {fname_list[i][k]}') \n",
    "        if sum(map(len, [len_issue_list, char_issue_list, other_issue_list]))  > 0   : #Append k,v pair to dict if there exists issues\n",
    "            issue_dict['len_issues'], issue_dict['char_issues'],issue_dict['other_issues'] = len_issue_list, char_issue_list, other_issue_list\n",
    "            problem_files[root_list[0]] = issue_dict\n",
    "                    \n",
    "#Show output\n",
    "problem_files"
   ]
  },
  {
   "cell_type": "markdown",
   "id": "e764b36b",
   "metadata": {
    "heading_collapsed": true
   },
   "source": [
    "# Convert to df and export"
   ]
  },
  {
   "cell_type": "code",
   "execution_count": null,
   "id": "1ac60310",
   "metadata": {
    "hidden": true
   },
   "outputs": [],
   "source": [
    "temp = pd.DataFrame(problem_files.values(), index = problem_files.keys()).reset_index()\n",
    "#temp.melt(id_vars=['index'])\n",
    "temp.to_csv('Data_issues.csv')"
   ]
  }
 ],
 "metadata": {
  "kernelspec": {
   "display_name": "Python 3 (ipykernel)",
   "language": "python",
   "name": "python3"
  },
  "language_info": {
   "codemirror_mode": {
    "name": "ipython",
    "version": 3
   },
   "file_extension": ".py",
   "mimetype": "text/x-python",
   "name": "python",
   "nbconvert_exporter": "python",
   "pygments_lexer": "ipython3",
   "version": "3.10.5"
  },
  "toc": {
   "base_numbering": 1,
   "nav_menu": {
    "height": "45px",
    "width": "200px"
   },
   "number_sections": true,
   "sideBar": true,
   "skip_h1_title": false,
   "title_cell": "Table of Contents",
   "title_sidebar": "Contents",
   "toc_cell": false,
   "toc_position": {},
   "toc_section_display": true,
   "toc_window_display": false
  }
 },
 "nbformat": 4,
 "nbformat_minor": 5
}
