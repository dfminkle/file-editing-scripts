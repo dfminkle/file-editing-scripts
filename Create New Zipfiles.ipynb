{
 "cells": [
  {
   "cell_type": "markdown",
   "id": "fb741862",
   "metadata": {},
   "source": [
    "# Import Libraries and Set Working Directory"
   ]
  },
  {
   "cell_type": "code",
   "execution_count": null,
   "id": "be4f74f9",
   "metadata": {},
   "outputs": [],
   "source": [
    "import os\n",
    "import zipfile\n",
    "import tkinter as tk\n",
    "from tkinter import filedialog"
   ]
  },
  {
   "cell_type": "markdown",
   "id": "d90c7b8e",
   "metadata": {},
   "source": [
    "## Proof of concept to use tkinter-gui interface to change files"
   ]
  },
  {
   "cell_type": "code",
   "execution_count": null,
   "id": "55721ebb",
   "metadata": {},
   "outputs": [],
   "source": [
    "#Use tkinter to change file\n",
    "root = tk.Tk()\n",
    "root.withdraw()\n",
    "\n",
    "file_path = filedialog.askdirectory()\n",
    "\n",
    "print(file_path)"
   ]
  },
  {
   "cell_type": "markdown",
   "id": "a64b4be3",
   "metadata": {},
   "source": []
  },
  {
   "cell_type": "code",
   "execution_count": null,
   "id": "3ede6516",
   "metadata": {},
   "outputs": [],
   "source": [
    "#Change directory and verify by printing\n",
    "dirname = r\"C:\\\\\"\n",
    "os.chdir(dirname)\n",
    "print(f\"Current folder is \\n {os.getcwd()}\")"
   ]
  },
  {
   "cell_type": "markdown",
   "id": "5190c6d2",
   "metadata": {},
   "source": [
    "# Program 1: Write Zipfiles"
   ]
  },
  {
   "cell_type": "markdown",
   "id": "39357ebf",
   "metadata": {},
   "source": [
    "## Create List of Zipfile Names"
   ]
  },
  {
   "cell_type": "code",
   "execution_count": null,
   "id": "06671bfc",
   "metadata": {},
   "outputs": [],
   "source": [
    "zip_file_names = [] #initiate empty list of future file names for the zip folders\n",
    "for fname in os.listdir(): #Loop through file names\n",
    "    if fname[:-4] not in zip_file_names: #Check if name exists in list already\n",
    "        zip_file_names.append(fname[:-4]) #If not, add it!"
   ]
  },
  {
   "cell_type": "markdown",
   "id": "5ca72b8b",
   "metadata": {},
   "source": [
    "## Create Zipfiles"
   ]
  },
  {
   "cell_type": "code",
   "execution_count": null,
   "id": "7ef8443a",
   "metadata": {},
   "outputs": [],
   "source": [
    "for name in zip_file_names: #Loop through zipfile names\n",
    "    fnames = [x for x in os.listdir() if x[:-4] == name] #Make list of files to go in zipfile\n",
    "    #T/E block to handle if files already exist\n",
    "    try: \n",
    "        zfile = zipfile.ZipFile((name + \".zip\"), mode = \"x\") #Initiate zipfolder\n",
    "    except FileExistsError: \n",
    "        print(f\"{name} already exists -- file {zip_file_names.index(name)} of {len(zip_file_names)-1}\")\n",
    "        continue #Skip to next iter of outermost loop\n",
    "    for fname in fnames: #loop through files to be included into zip folder\n",
    "        zfile.write(fname) #Write the files to the zipfolder\n",
    "\n",
    "zfile.close() #After loop, close the last zipfile\n",
    "os.close()"
   ]
  }
 ],
 "metadata": {
  "kernelspec": {
   "display_name": "Python 3 (ipykernel)",
   "language": "python",
   "name": "python3"
  },
  "language_info": {
   "codemirror_mode": {
    "name": "ipython",
    "version": 3
   },
   "file_extension": ".py",
   "mimetype": "text/x-python",
   "name": "python",
   "nbconvert_exporter": "python",
   "pygments_lexer": "ipython3",
   "version": "3.10.5"
  },
  "toc": {
   "base_numbering": 1,
   "nav_menu": {},
   "number_sections": true,
   "sideBar": true,
   "skip_h1_title": false,
   "title_cell": "Table of Contents",
   "title_sidebar": "Contents",
   "toc_cell": false,
   "toc_position": {},
   "toc_section_display": true,
   "toc_window_display": false
  }
 },
 "nbformat": 4,
 "nbformat_minor": 5
}
