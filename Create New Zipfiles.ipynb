{
 "cells": [
  {
   "cell_type": "markdown",
   "id": "7e7e4d20",
   "metadata": {},
   "source": [
    "# Import Libraries and Set Working Directory"
   ]
  },
  {
   "cell_type": "code",
   "execution_count": 1,
   "id": "22b33d6c",
   "metadata": {},
   "outputs": [],
   "source": [
    "import os\n",
    "import zipfile\n",
    "import tkinter as tk\n",
    "from tkinter import filedialog"
   ]
  },
  {
   "cell_type": "markdown",
   "id": "bbc8787e",
   "metadata": {},
   "source": [
    "## Proof of concept to use tkinter-gui interface to change files"
   ]
  },
  {
   "cell_type": "code",
   "execution_count": 25,
   "id": "db0bbbcc",
   "metadata": {},
   "outputs": [
    {
     "name": "stdout",
     "output_type": "stream",
     "text": [
      "C:/Users/dminkler002/Downloads/Temp NCIA\n"
     ]
    }
   ],
   "source": [
    "#Use tkinter to change file\n",
    "root = tk.Tk()\n",
    "root.withdraw()\n",
    "\n",
    "file_path = filedialog.askdirectory()\n",
    "\n",
    "print(file_path)"
   ]
  },
  {
   "cell_type": "markdown",
   "id": "95d5ddbb",
   "metadata": {},
   "source": []
  },
  {
   "cell_type": "code",
   "execution_count": 3,
   "id": "80e93cd6",
   "metadata": {},
   "outputs": [
    {
     "name": "stdout",
     "output_type": "stream",
     "text": [
      "Current folder is \n",
      " C:\\Users\\dminkler002\\OneDrive - Guidehouse\\Documents\\NTIA\\Offline SharePoint Repository\\Demo Folder\\Horizon Telcom Inc_GRN-001212\\Horizon_Shape_File\n"
     ]
    }
   ],
   "source": [
    "#Change directory and verify by printing\n",
    "dirname = r\"C:\\Users\\dminkler002\\OneDrive - Guidehouse\\Documents\\NTIA\\Offline SharePoint Repository\\Demo Folder\\Horizon Telcom Inc_GRN-001212\\Horizon_Shape_File\"\n",
    "os.chdir(dirname)\n",
    "print(f\"Current folder is \\n {os.getcwd()}\")"
   ]
  },
  {
   "cell_type": "markdown",
   "id": "7640f03a",
   "metadata": {},
   "source": [
    "# Program 1: Write Zipfiles"
   ]
  },
  {
   "cell_type": "markdown",
   "id": "d05ec61a",
   "metadata": {},
   "source": [
    "## Create List of Zipfile Names"
   ]
  },
  {
   "cell_type": "code",
   "execution_count": 4,
   "id": "85fdf7d8",
   "metadata": {},
   "outputs": [],
   "source": [
    "zip_file_names = [] #initiate empty list of future file names for the zip folders\n",
    "for fname in os.listdir(): #Loop through file names\n",
    "    if fname[:-4] not in zip_file_names: #Check if name exists in list already\n",
    "        zip_file_names.append(fname[:-4]) #If not, add it!"
   ]
  },
  {
   "cell_type": "markdown",
   "id": "18f3399c",
   "metadata": {},
   "source": [
    "## Create Zipfiles"
   ]
  },
  {
   "cell_type": "code",
   "execution_count": 5,
   "id": "1d0f2ebc",
   "metadata": {},
   "outputs": [
    {
     "ename": "TypeError",
     "evalue": "close() missing required argument 'fd' (pos 1)",
     "output_type": "error",
     "traceback": [
      "\u001b[1;31m---------------------------------------------------------------------------\u001b[0m",
      "\u001b[1;31mTypeError\u001b[0m                                 Traceback (most recent call last)",
      "Input \u001b[1;32mIn [5]\u001b[0m, in \u001b[0;36m<cell line: 13>\u001b[1;34m()\u001b[0m\n\u001b[0;32m     10\u001b[0m         zfile\u001b[38;5;241m.\u001b[39mwrite(fname) \u001b[38;5;66;03m#Write the files to the zipfolder\u001b[39;00m\n\u001b[0;32m     12\u001b[0m zfile\u001b[38;5;241m.\u001b[39mclose() \u001b[38;5;66;03m#After loop, close the last zipfile\u001b[39;00m\n\u001b[1;32m---> 13\u001b[0m \u001b[43mos\u001b[49m\u001b[38;5;241;43m.\u001b[39;49m\u001b[43mclose\u001b[49m\u001b[43m(\u001b[49m\u001b[43m)\u001b[49m\n",
      "\u001b[1;31mTypeError\u001b[0m: close() missing required argument 'fd' (pos 1)"
     ]
    }
   ],
   "source": [
    "for name in zip_file_names: #Loop through zipfile names\n",
    "    fnames = [x for x in os.listdir() if x[:-4] == name] #Make list of files to go in zipfile\n",
    "    #T/E block to handle if files already exist\n",
    "    try: \n",
    "        zfile = zipfile.ZipFile((name + \".zip\"), mode = \"x\") #Initiate zipfolder\n",
    "    except FileExistsError: \n",
    "        print(f\"{name} already exists -- file {zip_file_names.index(name)} of {len(zip_file_names)-1}\")\n",
    "        continue #Skip to next iter of outermost loop\n",
    "    for fname in fnames: #loop through files to be included into zip folder\n",
    "        zfile.write(fname) #Write the files to the zipfolder\n",
    "\n",
    "zfile.close() #After loop, close the last zipfile\n",
    "os.close()"
   ]
  }
 ],
 "metadata": {
  "kernelspec": {
   "display_name": "Python 3 (ipykernel)",
   "language": "python",
   "name": "python3"
  },
  "language_info": {
   "codemirror_mode": {
    "name": "ipython",
    "version": 3
   },
   "file_extension": ".py",
   "mimetype": "text/x-python",
   "name": "python",
   "nbconvert_exporter": "python",
   "pygments_lexer": "ipython3",
   "version": "3.10.5"
  },
  "toc": {
   "base_numbering": 1,
   "nav_menu": {},
   "number_sections": true,
   "sideBar": true,
   "skip_h1_title": false,
   "title_cell": "Table of Contents",
   "title_sidebar": "Contents",
   "toc_cell": false,
   "toc_position": {},
   "toc_section_display": true,
   "toc_window_display": false
  }
 },
 "nbformat": 4,
 "nbformat_minor": 5
}
